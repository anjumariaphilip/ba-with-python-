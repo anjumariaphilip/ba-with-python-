{
  "nbformat": 4,
  "nbformat_minor": 0,
  "metadata": {
    "colab": {
      "name": "Untitled0.ipynb",
      "provenance": []
    },
    "kernelspec": {
      "name": "python3",
      "display_name": "Python 3"
    },
    "language_info": {
      "name": "python"
    }
  },
  "cells": [
    {
      "cell_type": "code",
      "execution_count": 17,
      "metadata": {
        "colab": {
          "base_uri": "https://localhost:8080/"
        },
        "id": "UeBCO21fONJ8",
        "outputId": "619c4230-3da7-42ea-a418-92bc1ef545ef"
      },
      "outputs": [
        {
          "output_type": "stream",
          "name": "stdout",
          "text": [
            "the first number45\n",
            "the second number78\n",
            "-33\n",
            "123\n",
            "3510\n",
            "0.5769230769230769\n"
          ]
        }
      ],
      "source": [
        "x=int(input(\"the first number\"))\n",
        "y=int(input(\"the second number\"))\n",
        "\n",
        "print(x-y)\n",
        "print(x+y)\n",
        "print(x*y)\n",
        "print(int(x)/int(y))\n"
      ]
    },
    {
      "cell_type": "code",
      "source": [
        "p=int(input(\"principalamount\"))\n",
        "n=int(input(\"number of year\"))\n",
        "r=int(input(\"rateof intrest\"))\n",
        "print((p*n*r)/100)"
      ],
      "metadata": {
        "colab": {
          "base_uri": "https://localhost:8080/"
        },
        "id": "LpB2A0vLUiUx",
        "outputId": "bab48122-3937-4a33-89e7-a9aea3921fdc"
      },
      "execution_count": 25,
      "outputs": [
        {
          "output_type": "stream",
          "name": "stdout",
          "text": [
            "principalamount40000\n",
            "number of year4\n",
            "rateof intrest20\n",
            "32000.0\n"
          ]
        }
      ]
    },
    {
      "cell_type": "code",
      "source": [
        "x=int(input(\"enter your mark\"))\n",
        "if x>50:\n",
        "  print(\"you r pass\")\n",
        "if x<50:\n",
        "  print(\"you r failed\")\n",
        "\n"
      ],
      "metadata": {
        "colab": {
          "base_uri": "https://localhost:8080/"
        },
        "id": "IJbgAxolVZSl",
        "outputId": "6b124fb3-c523-4e53-ca06-00c0ede5704c"
      },
      "execution_count": 26,
      "outputs": [
        {
          "output_type": "stream",
          "name": "stdout",
          "text": [
            "enter your mark89\n",
            "you r pass\n"
          ]
        }
      ]
    },
    {
      "cell_type": "code",
      "source": [
        "x=int(input(\"enter your salary\"))\n",
        "if x>200000:\n",
        "  print(\"u r taxable\")\n",
        "  print((x*10)/100)\n",
        "  print(((x-25000)*10)/100)\n",
        "if x<200000:\n",
        "  print( \"u r nottaxable\")\n",
        "if 250000<x<500000:\n",
        "  print(((x-25000)*10)/100)\n",
        "\n",
        "  \n",
        "\n",
        "\n",
        "\n"
      ],
      "metadata": {
        "colab": {
          "base_uri": "https://localhost:8080/"
        },
        "id": "MVlggYhrWLqc",
        "outputId": "83d0e9b9-e5f3-414e-8dda-b0b187aea3ee"
      },
      "execution_count": 42,
      "outputs": [
        {
          "output_type": "stream",
          "name": "stdout",
          "text": [
            "enter your salary400000\n",
            "u r taxable\n",
            "40000.0\n",
            "37500.0\n",
            "37500.0\n"
          ]
        }
      ]
    },
    {
      "cell_type": "code",
      "source": [
        ""
      ],
      "metadata": {
        "id": "sTEy8VM4bfan"
      },
      "execution_count": 28,
      "outputs": []
    }
  ]
}