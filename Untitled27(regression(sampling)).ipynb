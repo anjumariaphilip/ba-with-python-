{
  "nbformat": 4,
  "nbformat_minor": 0,
  "metadata": {
    "colab": {
      "provenance": []
    },
    "kernelspec": {
      "name": "python3",
      "display_name": "Python 3"
    },
    "language_info": {
      "name": "python"
    }
  },
  "cells": [
    {
      "cell_type": "code",
      "execution_count": 1,
      "metadata": {
        "id": "SLV2sAYEHiUC"
      },
      "outputs": [],
      "source": [
        "import numpy as np\n",
        "import matplotlib.pyplot as plt\n",
        "import pandas as pd"
      ]
    },
    {
      "cell_type": "code",
      "source": [
        "\n",
        "dataset = pd.read_csv('/content/MIAHX12.csv')\n",
        "     \n",
        "\n"
      ],
      "metadata": {
        "id": "pQTnF4j5HvCt"
      },
      "execution_count": 2,
      "outputs": []
    },
    {
      "cell_type": "code",
      "source": [
        "x = dataset.iloc[:, :-1].values\n",
        "print(x)"
      ],
      "metadata": {
        "colab": {
          "base_uri": "https://localhost:8080/"
        },
        "id": "0iwpF5VDH72N",
        "outputId": "34a72335-ada9-4f17-828c-10ba05ced9d6"
      },
      "execution_count": 3,
      "outputs": [
        {
          "output_type": "stream",
          "name": "stdout",
          "text": [
            "[[  1]\n",
            " [  2]\n",
            " [  3]\n",
            " [  4]\n",
            " [  5]\n",
            " [  6]\n",
            " [  7]\n",
            " [  8]\n",
            " [  9]\n",
            " [ 10]\n",
            " [ 11]\n",
            " [ 12]\n",
            " [ 13]\n",
            " [ 14]\n",
            " [ 15]\n",
            " [ 16]\n",
            " [ 17]\n",
            " [ 18]\n",
            " [ 19]\n",
            " [ 20]\n",
            " [ 21]\n",
            " [ 22]\n",
            " [ 23]\n",
            " [ 24]\n",
            " [ 25]\n",
            " [ 26]\n",
            " [ 27]\n",
            " [ 28]\n",
            " [ 29]\n",
            " [ 30]\n",
            " [ 31]\n",
            " [ 32]\n",
            " [ 33]\n",
            " [ 34]\n",
            " [ 35]\n",
            " [ 36]\n",
            " [ 37]\n",
            " [ 38]\n",
            " [ 39]\n",
            " [ 40]\n",
            " [ 41]\n",
            " [ 42]\n",
            " [ 43]\n",
            " [ 44]\n",
            " [ 45]\n",
            " [ 46]\n",
            " [ 47]\n",
            " [ 48]\n",
            " [ 49]\n",
            " [ 50]\n",
            " [ 51]\n",
            " [ 52]\n",
            " [ 53]\n",
            " [ 54]\n",
            " [ 55]\n",
            " [ 56]\n",
            " [ 57]\n",
            " [ 58]\n",
            " [ 59]\n",
            " [ 60]\n",
            " [ 61]\n",
            " [ 62]\n",
            " [ 63]\n",
            " [ 64]\n",
            " [ 65]\n",
            " [ 66]\n",
            " [ 67]\n",
            " [ 68]\n",
            " [ 69]\n",
            " [ 70]\n",
            " [ 71]\n",
            " [ 72]\n",
            " [ 73]\n",
            " [ 74]\n",
            " [ 75]\n",
            " [ 76]\n",
            " [ 77]\n",
            " [ 78]\n",
            " [ 79]\n",
            " [ 80]\n",
            " [ 81]\n",
            " [ 82]\n",
            " [ 83]\n",
            " [ 84]\n",
            " [ 85]\n",
            " [ 86]\n",
            " [ 87]\n",
            " [ 88]\n",
            " [ 89]\n",
            " [ 90]\n",
            " [ 91]\n",
            " [ 92]\n",
            " [ 93]\n",
            " [ 94]\n",
            " [ 95]\n",
            " [ 96]\n",
            " [ 97]\n",
            " [ 98]\n",
            " [ 99]\n",
            " [100]\n",
            " [101]\n",
            " [102]\n",
            " [103]\n",
            " [104]\n",
            " [105]\n",
            " [106]\n",
            " [107]\n",
            " [108]\n",
            " [109]\n",
            " [110]\n",
            " [111]\n",
            " [112]\n",
            " [113]\n",
            " [114]\n",
            " [115]\n",
            " [116]\n",
            " [117]\n",
            " [118]\n",
            " [119]\n",
            " [120]\n",
            " [121]\n",
            " [122]\n",
            " [123]\n",
            " [124]\n",
            " [125]\n",
            " [126]\n",
            " [127]\n",
            " [128]\n",
            " [129]\n",
            " [130]\n",
            " [131]\n",
            " [132]\n",
            " [133]\n",
            " [134]\n",
            " [135]\n",
            " [136]\n",
            " [137]\n",
            " [138]\n",
            " [139]\n",
            " [140]\n",
            " [141]\n",
            " [142]\n",
            " [143]\n",
            " [144]\n",
            " [145]\n",
            " [146]\n",
            " [147]\n",
            " [148]\n",
            " [149]\n",
            " [150]\n",
            " [151]\n",
            " [152]\n",
            " [153]\n",
            " [154]\n",
            " [155]\n",
            " [156]\n",
            " [157]\n",
            " [158]\n",
            " [159]\n",
            " [160]\n",
            " [161]\n",
            " [162]\n",
            " [163]\n",
            " [164]\n",
            " [165]\n",
            " [166]\n",
            " [167]\n",
            " [168]\n",
            " [169]\n",
            " [170]\n",
            " [171]\n",
            " [172]\n",
            " [173]\n",
            " [174]\n",
            " [175]\n",
            " [176]\n",
            " [177]\n",
            " [178]\n",
            " [179]\n",
            " [180]\n",
            " [181]\n",
            " [182]\n",
            " [183]\n",
            " [184]\n",
            " [185]\n",
            " [186]\n",
            " [187]\n",
            " [188]\n",
            " [189]\n",
            " [190]\n",
            " [191]\n",
            " [192]\n",
            " [193]\n",
            " [194]\n",
            " [195]\n",
            " [196]\n",
            " [197]\n",
            " [198]\n",
            " [199]\n",
            " [200]\n",
            " [201]\n",
            " [202]\n",
            " [203]\n",
            " [204]\n",
            " [205]\n",
            " [206]\n",
            " [207]\n",
            " [208]\n",
            " [209]\n",
            " [210]\n",
            " [211]\n",
            " [212]\n",
            " [213]\n",
            " [214]\n",
            " [215]\n",
            " [216]\n",
            " [217]\n",
            " [218]\n",
            " [219]\n",
            " [220]\n",
            " [221]\n",
            " [222]\n",
            " [223]\n",
            " [224]\n",
            " [225]\n",
            " [226]\n",
            " [227]\n",
            " [228]\n",
            " [229]\n",
            " [230]\n",
            " [231]\n",
            " [232]\n",
            " [233]\n",
            " [234]\n",
            " [235]\n",
            " [236]\n",
            " [237]\n",
            " [238]\n",
            " [239]\n",
            " [240]\n",
            " [241]\n",
            " [242]\n",
            " [243]\n",
            " [244]\n",
            " [245]\n",
            " [246]\n",
            " [247]\n",
            " [248]\n",
            " [249]\n",
            " [250]\n",
            " [251]\n",
            " [252]]\n"
          ]
        }
      ]
    },
    {
      "cell_type": "code",
      "source": [
        "y = dataset.iloc[:, -1].values"
      ],
      "metadata": {
        "id": "66DQHa3SIFeV"
      },
      "execution_count": 4,
      "outputs": []
    },
    {
      "cell_type": "code",
      "source": [
        "y\n"
      ],
      "metadata": {
        "colab": {
          "base_uri": "https://localhost:8080/"
        },
        "id": "fkl5x9JcIOrO",
        "outputId": "5d3ee3f8-ad18-49dd-b234-c81a528486b9"
      },
      "execution_count": 5,
      "outputs": [
        {
          "output_type": "execute_result",
          "data": {
            "text/plain": [
              "array([10.91, 10.95, 10.93, 11.11, 11.21, 11.13, 11.12, 11.21, 11.25,\n",
              "       11.3 , 11.19, 11.17, 11.24, 11.13, 11.04, 10.98, 11.08, 11.08,\n",
              "       10.99, 10.95, 11.04, 10.9 , 10.83, 10.84, 10.79, 10.83, 10.81,\n",
              "       10.76, 10.74, 10.66, 10.61, 10.6 , 10.6 , 10.59, 10.6 , 10.58,\n",
              "       10.57, 10.58, 10.53, 10.6 , 10.63, 10.6 , 10.59, 10.61, 10.6 ,\n",
              "       10.64, 10.57, 10.43, 10.47, 10.53, 10.44, 10.41, 10.39, 10.35,\n",
              "       10.45, 10.42, 10.44, 10.46, 10.41, 10.48, 10.44, 10.44, 10.41,\n",
              "       10.47, 10.48, 10.52, 10.54, 10.48, 10.44, 10.47, 10.51, 10.45,\n",
              "       10.48, 10.46, 10.46, 10.42, 10.26, 10.12, 10.27, 10.24, 10.22,\n",
              "       10.2 , 10.26, 10.12, 10.12, 10.07, 10.03, 10.01, 10.  , 10.14,\n",
              "       10.12, 10.04, 10.02, 10.01, 10.04, 10.03, 10.08, 10.05, 10.11,\n",
              "       10.1 , 10.09, 10.08, 10.13, 10.22, 10.2 , 10.2 , 10.25, 10.35,\n",
              "       10.42, 10.43, 10.3 , 10.37, 10.37, 10.26, 10.32, 10.29, 10.27,\n",
              "       10.23, 10.27, 10.27, 10.27, 10.23, 10.29, 10.26, 10.24, 10.25,\n",
              "       10.25, 10.28, 10.28, 10.23, 10.22, 10.13, 10.04, 10.1 , 10.01,\n",
              "       10.05,  9.99, 10.  ,  9.97,  9.95,  9.97,  9.94,  9.89,  9.85,\n",
              "        9.84,  9.86,  9.51,  9.48,  9.35,  9.28,  9.43,  9.3 ,  9.25,\n",
              "        9.36,  9.38,  9.32,  9.29,  9.29,  9.25,  9.29,  9.3 ,  9.29,\n",
              "        9.3 ,  9.33,  9.31,  9.26,  9.25,  9.26,  9.29,  9.33,  9.32,\n",
              "        9.38,  9.37,  9.35,  9.36,  9.35,  9.25,  9.27,  9.27,  9.29,\n",
              "        9.28,  9.42,  9.42,  9.37,  9.42,  9.45,  9.38,  9.33,  9.39,\n",
              "        9.42,  9.47,  9.47,  9.45,  9.41,  9.53,  9.64,  9.72,  9.62,\n",
              "        9.63,  9.67,  9.66,  9.58,  9.58,  9.6 ,  9.58,  9.37,  9.33,\n",
              "        9.29,  9.28,  9.32,  9.27,  9.26,  9.22,  9.21,  9.24,  9.22,\n",
              "        9.24,  9.26,  9.26,  9.34,  9.36,  9.32,  9.37,  9.43,  9.37,\n",
              "        9.34,  9.41,  9.44,  9.4 ,  9.4 ,  9.45,  9.46,  9.47,  9.45,\n",
              "        9.4 ,  9.4 ,  9.47,  9.45,  9.37,  9.33,  9.35,  9.4 ,  9.35,\n",
              "        9.32,  9.33,  9.3 ,  9.3 ,  9.28,  9.3 ,  9.25,  9.26,  9.28])"
            ]
          },
          "metadata": {},
          "execution_count": 5
        }
      ]
    },
    {
      "cell_type": "code",
      "source": [
        "from sklearn.model_selection import train_test_split\n",
        "x_train, x_test, y_train, y_test = train_test_split(x, y, test_size = 0.2, random_state = 0)\n",
        "     "
      ],
      "metadata": {
        "id": "nn-Hz0zZIPpp"
      },
      "execution_count": 6,
      "outputs": []
    },
    {
      "cell_type": "code",
      "source": [
        "from sklearn.linear_model import LinearRegression\n",
        "regressor = LinearRegression()\n",
        "regressor.fit(x_train, y_train)\n",
        "     "
      ],
      "metadata": {
        "colab": {
          "base_uri": "https://localhost:8080/"
        },
        "id": "ZorrSyTGIZ1U",
        "outputId": "4a6fe96f-5f69-495a-81e0-33b07fb2f997"
      },
      "execution_count": 7,
      "outputs": [
        {
          "output_type": "execute_result",
          "data": {
            "text/plain": [
              "LinearRegression()"
            ]
          },
          "metadata": {},
          "execution_count": 7
        }
      ]
    },
    {
      "cell_type": "code",
      "source": [
        "y_pred = regressor.predict(x_test)"
      ],
      "metadata": {
        "id": "2F7qAqTPIePC"
      },
      "execution_count": 8,
      "outputs": []
    },
    {
      "cell_type": "code",
      "source": [
        "plt.scatter(x_test, y_test, color = 'red')\n",
        "plt.scatter(x_train, y_train, color = 'green')\n",
        "plt.plot(x_test, y_pred, color = 'blue')\n",
        "plt.xlabel('Volume')\n",
        "plt.ylabel('Profit')\n",
        "plt.show()\n",
        "     \n"
      ],
      "metadata": {
        "colab": {
          "base_uri": "https://localhost:8080/",
          "height": 279
        },
        "id": "RSQ2iExIIxcG",
        "outputId": "cbc05de3-b32a-4cb6-bde3-15aa3fecfb01"
      },
      "execution_count": 9,
      "outputs": [
        {
          "output_type": "display_data",
          "data": {
            "text/plain": [
              "<Figure size 432x288 with 1 Axes>"
            ],
            "image/png": "[encoded data removed]"
          },
          "metadata": {
            "needs_background": "light"
          }
        }
      ]
    }
  ]
}